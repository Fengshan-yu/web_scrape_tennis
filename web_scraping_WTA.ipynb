{
 "cells": [
  {
   "cell_type": "code",
   "execution_count": 3,
   "id": "bb3a42b9",
   "metadata": {},
   "outputs": [],
   "source": [
    "from bs4 import BeautifulSoup\n",
    "import requests\n",
    "\n",
    "url=\"https://www.espn.com/tennis/rankings/_/type/wta\"\n",
    "data = requests.get(url).text\n",
    "soup = BeautifulSoup(data, \"html.parser\")\n",
    "\n",
    "ths = soup.find_all(\"th\")\n",
    "trs= soup.find_all(\"tr\")\n",
    "\n",
    "player_info_list=[]\n",
    "\n",
    "\n",
    "for index, tr in enumerate(trs):\n",
    "    player_info={}\n",
    "    if index==0:\n",
    "        continue\n",
    "    else:\n",
    "        tds = tr.find_all(\"td\")\n",
    "        row = [td.get_text() for td in tds]\n",
    "        player_info[\"Rank\"]=row[0]\n",
    "        player_info[\"Name\"]=row[2]\n",
    "        player_info[\"Points\"]=row[3]\n",
    "\n",
    "    player_info_list.append(player_info)\n"
   ]
  },
  {
   "cell_type": "code",
   "execution_count": 4,
   "id": "15223263",
   "metadata": {},
   "outputs": [
    {
     "data": {
      "text/plain": [
       "147"
      ]
     },
     "execution_count": 4,
     "metadata": {},
     "output_type": "execute_result"
    }
   ],
   "source": [
    "len(player_info_list)"
   ]
  },
  {
   "cell_type": "code",
   "execution_count": 5,
   "id": "05bb0e5d",
   "metadata": {},
   "outputs": [],
   "source": [
    "import json\n",
    "\n",
    "def save_data(title, data):\n",
    "    with open(title, \"w\", encoding=\"utf-8\") as f:\n",
    "        json.dump(data, f, ensure_ascii=False, indent=2)"
   ]
  },
  {
   "cell_type": "code",
   "execution_count": 6,
   "id": "f647b26b",
   "metadata": {},
   "outputs": [],
   "source": [
    "import json\n",
    "\n",
    "def load_data(title):\n",
    "    with open(title,encoding=\"utf-8\") as f:\n",
    "        return json.load(f)"
   ]
  },
  {
   "cell_type": "code",
   "execution_count": 7,
   "id": "423b8250",
   "metadata": {},
   "outputs": [],
   "source": [
    "save_data(\"player_WTA_list.json\", player_info_list)"
   ]
  },
  {
   "cell_type": "code",
   "execution_count": 8,
   "id": "01a5355a",
   "metadata": {},
   "outputs": [
    {
     "data": {
      "text/plain": [
       "[{'Rank': '1', 'Name': 'Ashleigh Barty', 'Points': '8,330'},\n",
       " {'Rank': '2', 'Name': 'Aryna Sabalenka', 'Points': '5,698'},\n",
       " {'Rank': '3', 'Name': 'Barbora Krejcikova', 'Points': '5,533'},\n",
       " {'Rank': '4', 'Name': 'Karolina Pliskova', 'Points': '4,452'},\n",
       " {'Rank': '5', 'Name': 'Paula Badosa', 'Points': '4,429'},\n",
       " {'Rank': '7', 'Name': 'Maria Sakkari', 'Points': '4,071'},\n",
       " {'Rank': '8', 'Name': 'Iga Swiatek', 'Points': '3,986'},\n",
       " {'Rank': '9', 'Name': 'Anett Kontaveit', 'Points': '3,871'},\n",
       " {'Rank': '10', 'Name': 'Ons Jabeur', 'Points': '3,070'},\n",
       " {'Rank': '11', 'Name': 'Danielle Collins', 'Points': '2,971'},\n",
       " {'Rank': '12', 'Name': 'Elena Rybakina', 'Points': '2,705'},\n",
       " {'Rank': '13', 'Name': 'Emma Raducanu', 'Points': '2,664'},\n",
       " {'Rank': '14', 'Name': 'Anastasia Pavlyuchenkova', 'Points': '2,638'},\n",
       " {'Rank': '15', 'Name': 'Elina Svitolina', 'Points': '2,531'},\n",
       " {'Rank': '16', 'Name': 'Jessica Pegula', 'Points': '2,474'},\n",
       " {'Rank': '17', 'Name': 'Victoria Azarenka', 'Points': '2,396'},\n",
       " {'Rank': '18', 'Name': 'Angelique Kerber', 'Points': '2,287'},\n",
       " {'Rank': '19', 'Name': 'Leylah Fernandez', 'Points': '2,249'},\n",
       " {'Rank': '20', 'Name': 'Cori Gauff', 'Points': '2,231'},\n",
       " {'Rank': '21', 'Name': 'Daria Kasatkina', 'Points': '2,200'},\n",
       " {'Rank': '22', 'Name': 'Simona Halep', 'Points': '2,117'},\n",
       " {'Rank': '23', 'Name': 'Petra Kvitova', 'Points': '2,110'},\n",
       " {'Rank': '24', 'Name': 'Belinda Bencic', 'Points': '2,110'},\n",
       " {'Rank': '25', 'Name': 'Jelena Ostapenko', 'Points': '2,095'},\n",
       " {'Rank': '26', 'Name': 'Elise Mertens', 'Points': '2,091'},\n",
       " {'Rank': '27', 'Name': 'Tamara Zidansek', 'Points': '1,991'},\n",
       " {'Rank': '28', 'Name': 'Madison Keys', 'Points': '1,803'},\n",
       " {'Rank': '29', 'Name': 'Veronika Kudermetova', 'Points': '1,695'},\n",
       " {'Rank': '30', 'Name': 'Camila Giorgi', 'Points': '1,692'},\n",
       " {'Rank': '31', 'Name': 'Sorana Cirstea', 'Points': '1,612'},\n",
       " {'Rank': '32', 'Name': 'Sara Sorribes Tormo', 'Points': '1,588'},\n",
       " {'Rank': '33', 'Name': 'Clara Tauson', 'Points': '1,539'},\n",
       " {'Rank': '34', 'Name': 'Liudmilla Samsonova', 'Points': '1,537'},\n",
       " {'Rank': '35', 'Name': 'Jil Teichmann', 'Points': '1,470'},\n",
       " {'Rank': '36', 'Name': 'Viktorija Golubic', 'Points': '1,442'},\n",
       " {'Rank': '37', 'Name': 'Alize Cornet', 'Points': '1,410'},\n",
       " {'Rank': '38', 'Name': 'Marketa Vondrousova', 'Points': '1,337'},\n",
       " {'Rank': '39', 'Name': 'Ajla Tomljanovic', 'Points': '1,335'},\n",
       " {'Rank': '40', 'Name': 'Amanda Anisimova', 'Points': '1,290'},\n",
       " {'Rank': '41', 'Name': 'Yulia Putintseva', 'Points': '1,255'},\n",
       " {'Rank': '42', 'Name': 'Tereza Martincova', 'Points': '1,248'},\n",
       " {'Rank': '43', 'Name': 'Ekaterina Alexandrova', 'Points': '1,236'},\n",
       " {'Rank': '44', 'Name': 'Katerina Siniakova', 'Points': '1,220'},\n",
       " {'Rank': '45', 'Name': 'Magda Linette', 'Points': '1,202'},\n",
       " {'Rank': '46', 'Name': 'Bianca Andreescu', 'Points': '1,198'},\n",
       " {'Rank': '47', 'Name': 'Shelby Rogers', 'Points': '1,183'},\n",
       " {'Rank': '48', 'Name': 'Jasmine Paolini', 'Points': '1,153'},\n",
       " {'Rank': '50', 'Name': 'Nuria Parrizas Diaz', 'Points': '1,143'},\n",
       " {'Rank': '51', 'Name': 'Marta Kostyuk', 'Points': '1,135'},\n",
       " {'Rank': '52', 'Name': 'Alison Van Uytvanck', 'Points': '1,125'},\n",
       " {'Rank': '53', 'Name': 'Anhelina Kalinina', 'Points': '1,113'},\n",
       " {'Rank': '54', 'Name': 'Ana Konjuh', 'Points': '1,103'},\n",
       " {'Rank': '55', 'Name': 'Alison Riske', 'Points': '1,101'},\n",
       " {'Rank': '56', 'Name': 'Irina-Camelia Begu', 'Points': '1,043'},\n",
       " {'Rank': '57', 'Name': 'Sloane Stephens', 'Points': '1,023'},\n",
       " {'Rank': '58', 'Name': 'Jaqueline Cristian', 'Points': '1,013'},\n",
       " {'Rank': '59', 'Name': 'Madison Brengle', 'Points': '1,002'},\n",
       " {'Rank': '60', 'Name': 'Ann Li', 'Points': '999'},\n",
       " {'Rank': '61', 'Name': 'Elena-Gabriela Ruse', 'Points': '991'},\n",
       " {'Rank': '62', 'Name': 'Kaia Kanepi', 'Points': '973'},\n",
       " {'Rank': '63', 'Name': 'Arantxa Rus', 'Points': '958'},\n",
       " {'Rank': '64', 'Name': 'Karolina Muchova', 'Points': '954'},\n",
       " {'Rank': '65', 'Name': 'Andrea Petkovic', 'Points': '949'},\n",
       " {'Rank': '66', 'Name': 'Mayar Sherif', 'Points': '949'},\n",
       " {'Rank': '67', 'Name': 'Shuai Zhang', 'Points': '946'},\n",
       " {'Rank': '68', 'Name': 'Maryna Zanevska', 'Points': '932'},\n",
       " {'Rank': '69', 'Name': 'Caroline Garcia', 'Points': '930'},\n",
       " {'Rank': '70', 'Name': 'Petra Martic', 'Points': '924'},\n",
       " {'Rank': '71', 'Name': 'Aliaksandra Sasnovich', 'Points': '923'},\n",
       " {'Rank': '72', 'Name': 'Danka Kovinic', 'Points': '919'},\n",
       " {'Rank': '73', 'Name': 'Beatriz Haddad Maia', 'Points': '913'},\n",
       " {'Rank': '74', 'Name': 'Rebecca Peterson', 'Points': '901'},\n",
       " {'Rank': '75', 'Name': 'Anastasia Potapova', 'Points': '895'},\n",
       " {'Rank': '76', 'Name': 'Misaki Doi', 'Points': '887'},\n",
       " {'Rank': '77', 'Name': 'Clara Burel', 'Points': '884'},\n",
       " {'Rank': '78', 'Name': 'Kristina Kucova', 'Points': '859'},\n",
       " {'Rank': '79', 'Name': 'Anastasija Sevastova', 'Points': '857'},\n",
       " {'Rank': '80', 'Name': 'Qinwen Zheng', 'Points': '852'},\n",
       " {'Rank': '81', 'Name': 'Varvara Gracheva', 'Points': '847'},\n",
       " {'Rank': '82', 'Name': 'Vera Zvonareva', 'Points': '846'},\n",
       " {'Rank': '83', 'Name': 'Oceane Dodin', 'Points': '846'},\n",
       " {'Rank': '84', 'Name': 'Anna Bondar', 'Points': '840'},\n",
       " {'Rank': '85', 'Name': 'Naomi Osaka', 'Points': '826'},\n",
       " {'Rank': '86', 'Name': 'Xinyu Wang', 'Points': '826'},\n",
       " {'Rank': '87', 'Name': 'Heather Watson', 'Points': '819'},\n",
       " {'Rank': '88', 'Name': 'Claire Liu', 'Points': '818'},\n",
       " {'Rank': '89', 'Name': 'Saisai Zheng', 'Points': '807'},\n",
       " {'Rank': '90', 'Name': 'Panna Udvardy', 'Points': '801'},\n",
       " {'Rank': '91', 'Name': 'Astra Sharma', 'Points': '798'},\n",
       " {'Rank': '92', 'Name': 'Lauren Davis', 'Points': '792'},\n",
       " {'Rank': '93', 'Name': 'Martina Trevisan', 'Points': '783'},\n",
       " {'Rank': '94', 'Name': 'Anna Schmiedlova', 'Points': '772'},\n",
       " {'Rank': '95', 'Name': 'Sofia Kenin', 'Points': '771'},\n",
       " {'Rank': '96', 'Name': 'Greet Minnen', 'Points': '767'},\n",
       " {'Rank': '97', 'Name': 'Marie Bouzkova', 'Points': '758'},\n",
       " {'Rank': '98', 'Name': 'Kristina Mladenovic', 'Points': '740'},\n",
       " {'Rank': '99', 'Name': 'Magdalena Frech', 'Points': '734'},\n",
       " {'Rank': '100', 'Name': 'Bernarda Pera', 'Points': '728'},\n",
       " {'Rank': '101', 'Name': 'Ana Bogdan', 'Points': '722'},\n",
       " {'Rank': '102', 'Name': 'Kaja Juvan', 'Points': '697'},\n",
       " {'Rank': '103', 'Name': 'Anna Kalinskaya', 'Points': '694'},\n",
       " {'Rank': '104', 'Name': 'Kamilla Rakhimova', 'Points': '686'},\n",
       " {'Rank': '105', 'Name': 'Diane Parry', 'Points': '679'},\n",
       " {'Rank': '106', 'Name': 'Harmony Tan', 'Points': '675'},\n",
       " {'Rank': '107', 'Name': 'Svetlana Kuznetsova', 'Points': '671'},\n",
       " {'Rank': '108', 'Name': 'Donna Vekic', 'Points': '666'},\n",
       " {'Rank': '109', 'Name': 'Viktoriya Tomova', 'Points': '659'},\n",
       " {'Rank': '110', 'Name': 'Jennifer Brady', 'Points': '653'},\n",
       " {'Rank': '111', 'Name': 'Lesia Tsurenko', 'Points': '644'},\n",
       " {'Rank': '112', 'Name': 'Nadia Podoroska', 'Points': '638'},\n",
       " {'Rank': '113', 'Name': 'Fiona Ferro', 'Points': '638'},\n",
       " {'Rank': '114', 'Name': 'Lin Zhu', 'Points': '637'},\n",
       " {'Rank': '115', 'Name': 'Lucia Bronzetti', 'Points': '611'},\n",
       " {'Rank': '116', 'Name': 'Dalma Galfi', 'Points': '610'},\n",
       " {'Rank': '117', 'Name': 'Zarina Diyas', 'Points': '606'},\n",
       " {'Rank': '118', 'Name': 'Jule Niemeier', 'Points': '596'},\n",
       " {'Rank': '119', 'Name': 'Nina Stojanovic', 'Points': '591'},\n",
       " {'Rank': '120', 'Name': 'Xiyu Wang', 'Points': '590'},\n",
       " {'Rank': '121', 'Name': 'Irina Bara', 'Points': '585'},\n",
       " {'Rank': '122', 'Name': 'Mihaela Buzarnescu', 'Points': '581'},\n",
       " {'Rank': '123', 'Name': 'Vitalia Diatchenko', 'Points': '579'},\n",
       " {'Rank': '124', 'Name': 'Chloe Paquet', 'Points': '576'},\n",
       " {'Rank': '125', 'Name': 'Aleksandra Krunic', 'Points': '567'},\n",
       " {'Rank': '126', 'Name': 'Anastasia Gasanova', 'Points': '562'},\n",
       " {'Rank': '127', 'Name': 'Renata Zarazua', 'Points': '558'},\n",
       " {'Rank': '128', 'Name': 'Olga Govortsova', 'Points': '557'},\n",
       " {'Rank': '129', 'Name': 'Maddison Inglis', 'Points': '553'},\n",
       " {'Rank': '130', 'Name': 'Harriet Dart', 'Points': '549'},\n",
       " {'Rank': '131', 'Name': 'Anna-Lena Friedsam', 'Points': '534'},\n",
       " {'Rank': '132', 'Name': 'Ekaterine Gorgodze', 'Points': '532'},\n",
       " {'Rank': '133', 'Name': 'Varvara Lepchenko', 'Points': '531'},\n",
       " {'Rank': '134', 'Name': 'Qiang Wang', 'Points': '520'},\n",
       " {'Rank': '135', 'Name': 'Nao Hibino', 'Points': '518'},\n",
       " {'Rank': '136', 'Name': 'Hailey Baptiste', 'Points': '513'},\n",
       " {'Rank': '138', 'Name': 'Polona Hercog', 'Points': '492'},\n",
       " {'Rank': '139', 'Name': 'Kateryna Kozlova', 'Points': '490'},\n",
       " {'Rank': '140', 'Name': 'Daria Snigur', 'Points': '480'},\n",
       " {'Rank': '141', 'Name': 'Lesley Pattinama Kerkhove', 'Points': '478'},\n",
       " {'Rank': '142', 'Name': 'Olga Danilovic', 'Points': '469'},\n",
       " {'Rank': '143', 'Name': 'Cristina Bucsa', 'Points': '469'},\n",
       " {'Rank': '144', 'Name': 'Rebeka Masarova', 'Points': '460'},\n",
       " {'Rank': '145', 'Name': 'Sara Errani', 'Points': '460'},\n",
       " {'Rank': '146', 'Name': 'Katarzyna Kawa', 'Points': '460'},\n",
       " {'Rank': '147', 'Name': 'Viktoria Kuzmova', 'Points': '459'},\n",
       " {'Rank': '148', 'Name': 'Storm Sanders', 'Points': '456'},\n",
       " {'Rank': '149', 'Name': 'Dayana Yastremska', 'Points': '442'},\n",
       " {'Rank': '150', 'Name': 'Aliona Bolsova Zadoinov', 'Points': '441'}]"
      ]
     },
     "execution_count": 8,
     "metadata": {},
     "output_type": "execute_result"
    }
   ],
   "source": [
    "load_data(\"player_WTA_list.json\")"
   ]
  },
  {
   "cell_type": "code",
   "execution_count": 9,
   "id": "e238fb1a",
   "metadata": {},
   "outputs": [],
   "source": [
    "import pandas as pd"
   ]
  },
  {
   "cell_type": "code",
   "execution_count": 10,
   "id": "77829bfa",
   "metadata": {},
   "outputs": [],
   "source": [
    "df=pd.DataFrame(player_info_list)"
   ]
  },
  {
   "cell_type": "code",
   "execution_count": 11,
   "id": "1be88ce9",
   "metadata": {},
   "outputs": [
    {
     "data": {
      "text/plain": [
       "<bound method NDFrame.head of     Rank                     Name Points\n",
       "0      1           Ashleigh Barty  8,330\n",
       "1      2          Aryna Sabalenka  5,698\n",
       "2      3       Barbora Krejcikova  5,533\n",
       "3      4        Karolina Pliskova  4,452\n",
       "4      5             Paula Badosa  4,429\n",
       "..   ...                      ...    ...\n",
       "142  146           Katarzyna Kawa    460\n",
       "143  147         Viktoria Kuzmova    459\n",
       "144  148            Storm Sanders    456\n",
       "145  149        Dayana Yastremska    442\n",
       "146  150  Aliona Bolsova Zadoinov    441\n",
       "\n",
       "[147 rows x 3 columns]>"
      ]
     },
     "execution_count": 11,
     "metadata": {},
     "output_type": "execute_result"
    }
   ],
   "source": [
    "df.head"
   ]
  },
  {
   "cell_type": "code",
   "execution_count": 12,
   "id": "28ac9d41",
   "metadata": {},
   "outputs": [],
   "source": [
    "df.to_excel(\"player_WTA_list.xlsx\", index=False, sheet_name=\"top150_WTA\")"
   ]
  },
  {
   "cell_type": "code",
   "execution_count": null,
   "id": "729d2279",
   "metadata": {},
   "outputs": [],
   "source": []
  }
 ],
 "metadata": {
  "kernelspec": {
   "display_name": "Python 3 (ipykernel)",
   "language": "python",
   "name": "python3"
  },
  "language_info": {
   "codemirror_mode": {
    "name": "ipython",
    "version": 3
   },
   "file_extension": ".py",
   "mimetype": "text/x-python",
   "name": "python",
   "nbconvert_exporter": "python",
   "pygments_lexer": "ipython3",
   "version": "3.9.7"
  }
 },
 "nbformat": 4,
 "nbformat_minor": 5
}
